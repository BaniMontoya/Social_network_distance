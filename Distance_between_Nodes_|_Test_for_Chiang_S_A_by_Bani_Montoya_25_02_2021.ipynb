{
  "nbformat": 4,
  "nbformat_minor": 0,
  "metadata": {
    "colab": {
      "name": "Distance between Nodes  | Test for Chiang S.A. by_Bani_Montoya 25/02/2021.ipynb",
      "provenance": [],
      "collapsed_sections": [],
      "authorship_tag": "ABX9TyP8SzhadQvZ0KvbGF4Cr6fy",
      "include_colab_link": true
    },
    "kernelspec": {
      "name": "python3",
      "display_name": "Python 3"
    }
  },
  "cells": [
    {
      "cell_type": "markdown",
      "metadata": {
        "id": "view-in-github",
        "colab_type": "text"
      },
      "source": [
        "<a href=\"https://colab.research.google.com/github/BaniMontoya/Social_network_distance/blob/main/Distance_between_Nodes_%7C_Test_for_Chiang_S_A_by_Bani_Montoya_25_02_2021.ipynb\" target=\"_parent\"><img src=\"https://colab.research.google.com/assets/colab-badge.svg\" alt=\"Open In Colab\"/></a>"
      ]
    },
    {
      "cell_type": "markdown",
      "metadata": {
        "id": "9Ev9DZW19D40"
      },
      "source": [
        "\n",
        "Una plataforma de Red Social, permite las siguientes operaciones a sus usuarios: post, follows, re-post\n",
        "\n",
        "La plataforma provee a los desarrolladores de aplicaciones, el siguiente API:\n",
        "\n",
        " \n",
        "\n",
        "GET /<username>/followers\n",
        "\n",
        " \n",
        "\n",
        "{ \"user\": \"username\",  \"Followers\": [\"user1\", \"user2\",….. \"user n\"] }\n",
        "\n",
        " \n",
        "\n",
        "GET /<username>/following\n",
        "\n",
        " \n",
        "\n",
        "{ \"user\": \"username\",  \"Following\": [\"user1\", \"user2\",….. \"user n\"] }\n",
        "\n",
        " \n",
        "\n",
        " Implemente un algoritmo en cualquier lenguaje de programación, que calcule la distancia entre 2 usuarios.\n",
        "\n",
        " \n",
        "\n",
        "Ejemplo:\n",
        "\n",
        " \n",
        "\n",
        "Dado:\n",
        "\n",
        "{ \"user\": \"userA\",  \"Following\": [\"userB\", \"userD\",\"userE\", \"userG\"] }\n",
        "\n",
        "{ \"user\": \"userB\",  \"Following\": [\"userC\", \"userJ\",\"userI\", \"userE\"] }\n",
        "\n",
        "{ \"user\": \"userC\",  \"Following\": [\"userM\", \"userN\",\"userJ\", \"userI\", \"userE\"] }\n",
        "\n",
        "     \n",
        "\n",
        "SI requiero a distancia entre \"userA\" y \"userM\"\n",
        "\n",
        " \n",
        "\n",
        "Al buscar se encuentra que: User A, sigue a User B. Y User B, sigue a User C. Y User C, sigue User M\n",
        "\n",
        " \n",
        "\n",
        "Entonces, la distancia entre User A y User M, es: 3\n",
        "\n",
        " \n",
        "\n",
        "CONSIDERAR: Sabemos de la existencia de respuestas en internet para esta pregunta, pero deseamos conocer su capacidad analítica para la resolución de este problema. Esperamos que el candidato tenga buenas habilidades en desarrollo de algoritmos para que pueda liderar al equipo técnico apropiadamente.\n",
        "\n"
      ]
    },
    {
      "cell_type": "code",
      "metadata": {
        "colab": {
          "base_uri": "https://localhost:8080/",
          "height": 141
        },
        "id": "gDlq95F_89EW",
        "outputId": "960ad37e-3029-4b1e-a3ea-4aa7d0edb59d"
      },
      "source": [
        "import pandas as pd\n",
        "import numpy as np\n",
        "following = [\n",
        "  { \"user\": \"userA\",  \"Following\": [\"userB\", \"userD\",\"userE\", \"userG\"] },\n",
        "  { \"user\": \"userB\",  \"Following\": [\"userC\", \"userJ\",\"userI\", \"userE\"] },\n",
        "  { \"user\": \"userC\",  \"Following\": [\"userM\", \"userN\",\"userJ\", \"userI\", \"userE\"] }\n",
        "  ]\n",
        "following_df = pd.DataFrame(following)\n",
        "following_df"
      ],
      "execution_count": 9,
      "outputs": [
        {
          "output_type": "execute_result",
          "data": {
            "text/html": [
              "<div>\n",
              "<style scoped>\n",
              "    .dataframe tbody tr th:only-of-type {\n",
              "        vertical-align: middle;\n",
              "    }\n",
              "\n",
              "    .dataframe tbody tr th {\n",
              "        vertical-align: top;\n",
              "    }\n",
              "\n",
              "    .dataframe thead th {\n",
              "        text-align: right;\n",
              "    }\n",
              "</style>\n",
              "<table border=\"1\" class=\"dataframe\">\n",
              "  <thead>\n",
              "    <tr style=\"text-align: right;\">\n",
              "      <th></th>\n",
              "      <th>user</th>\n",
              "      <th>Following</th>\n",
              "    </tr>\n",
              "  </thead>\n",
              "  <tbody>\n",
              "    <tr>\n",
              "      <th>0</th>\n",
              "      <td>userA</td>\n",
              "      <td>[userB, userD, userE, userG]</td>\n",
              "    </tr>\n",
              "    <tr>\n",
              "      <th>1</th>\n",
              "      <td>userB</td>\n",
              "      <td>[userC, userJ, userI, userE]</td>\n",
              "    </tr>\n",
              "    <tr>\n",
              "      <th>2</th>\n",
              "      <td>userC</td>\n",
              "      <td>[userM, userN, userJ, userI, userE]</td>\n",
              "    </tr>\n",
              "  </tbody>\n",
              "</table>\n",
              "</div>"
            ],
            "text/plain": [
              "    user                            Following\n",
              "0  userA         [userB, userD, userE, userG]\n",
              "1  userB         [userC, userJ, userI, userE]\n",
              "2  userC  [userM, userN, userJ, userI, userE]"
            ]
          },
          "metadata": {
            "tags": []
          },
          "execution_count": 9
        }
      ]
    },
    {
      "cell_type": "code",
      "metadata": {
        "colab": {
          "base_uri": "https://localhost:8080/",
          "height": 438
        },
        "id": "w9rNrH2i1WhR",
        "outputId": "3346f50b-bd3b-439c-8c48-be822561a77c"
      },
      "source": [
        "import networkx as nx\n",
        "class Network:\n",
        "  '''\n",
        "  Network of followers\n",
        "  '''\n",
        "  followers_net = nx.Graph()\n",
        "  def get_draw(self):\n",
        "    '''\n",
        "    Draw visualization of followers\n",
        "    '''\n",
        "    users = following_df['user']\n",
        "    for user in users:\n",
        "      for followeds in following_df.loc[following_df['user'] == user]['Following']:\n",
        "        for followed in followeds:\n",
        "          self.followers_net.add_edge(user,followed)\n",
        "    nx.draw_networkx(self.followers_net,node_size=500, node_color='#00b4d9')\n",
        "  def get_distance(self, user1, user2):\n",
        "    '''\n",
        "    Get short distance between user1 and user2\n",
        "    '''\n",
        "    users = following_df['user']\n",
        "    for user in users:\n",
        "      for followeds in following_df.loc[following_df['user'] == user]['Following']:\n",
        "        for followed in followeds:\n",
        "          self.followers_net.add_edge(user,followed)\n",
        "    print( f\"The distance between {user1} and {user2} is: {nx.shortest_path_length(self.followers_net, user1, user2)}\")\n",
        "    return nx.shortest_path_length(self.followers_net, user1, user2)\n",
        "\n",
        "'''\n",
        "Create Object Network\n",
        "'''\n",
        "net = Network()\n",
        "'''\n",
        "Get Visualization\n",
        "'''\n",
        "net.get_draw()\n",
        "'''\n",
        "Test net.get_distance() results\n",
        "'''\n",
        "assert net.get_distance(\"userA\", \"userA\") == 0\n",
        "assert net.get_distance(\"userA\", \"userB\") == 1\n",
        "assert net.get_distance(\"userA\", \"userD\") == 1\n",
        "assert net.get_distance(\"userA\", \"userE\") == 1\n",
        "assert net.get_distance(\"userA\", \"userG\") == 1\n",
        "assert net.get_distance(\"userA\", \"userC\") == 2\n",
        "assert net.get_distance(\"userA\", \"userJ\") == 2\n",
        "assert net.get_distance(\"userA\", \"userI\") == 2\n",
        "assert net.get_distance(\"userA\", \"userM\") == 3\n",
        "assert net.get_distance(\"userA\", \"userN\") == 3\n",
        "assert net.get_distance(\"userC\", \"userM\") == 1"
      ],
      "execution_count": 10,
      "outputs": [
        {
          "output_type": "stream",
          "text": [
            "The distance between userA and userA is: 0\n",
            "The distance between userA and userB is: 1\n",
            "The distance between userA and userD is: 1\n",
            "The distance between userA and userE is: 1\n",
            "The distance between userA and userG is: 1\n",
            "The distance between userA and userC is: 2\n",
            "The distance between userA and userJ is: 2\n",
            "The distance between userA and userI is: 2\n",
            "The distance between userA and userM is: 3\n",
            "The distance between userA and userN is: 3\n",
            "The distance between userC and userM is: 1\n"
          ],
          "name": "stdout"
        },
        {
          "output_type": "display_data",
          "data": {
            "image/png": "[encoded data removed]",
            "text/plain": [
              "<Figure size 432x288 with 1 Axes>"
            ]
          },
          "metadata": {
            "tags": []
          }
        }
      ]
    }
  ]
}